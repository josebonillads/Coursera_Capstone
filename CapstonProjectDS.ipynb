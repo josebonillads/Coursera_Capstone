{
  "nbformat": 4,
  "nbformat_minor": 0,
  "metadata": {
    "colab": {
      "name": "CapstonProjectDS.ipynb",
      "provenance": [],
      "collapsed_sections": []
    },
    "kernelspec": {
      "name": "python3",
      "display_name": "Python 3"
    },
    "language_info": {
      "name": "python"
    }
  },
  "cells": [
    {
      "cell_type": "markdown",
      "metadata": {
        "id": "FFV0nAZ4GMPX"
      },
      "source": [
        "# Capstone Project Data Science | Site recommendation and competitor analysis for Restaurant opening\n",
        "##Introduction - Business Problem\n",
        "### Restaurants and Culinary habits have always been one of the favorite ways to socialize and meet each other, have interesting conversation beside closing business contract. Knowing these habits, Restaurant income represent a good share of every country GDP (Gross domestic product). \n",
        "###One the most complex decision for every restaurant it’s finding a perfect location for introducing a new option for neighborhood and surrounding area at a selected city.\n",
        "###My project it’s a about determining best restaurant location and segmenting competitors in Bronx city to find opportunities in order to offer a differentiated culinary service based on neighborhood habits.\n",
        "###Bronx city has an increasing total immigrant from Latin America one of the first things people do when immigrating to a new country or city is to establish communities and open restaurants to feed them. \n",
        "\n"
      ]
    },
    {
      "cell_type": "code",
      "metadata": {
        "id": "Sk5nMsJ3GQN3"
      },
      "source": [
        ""
      ],
      "execution_count": null,
      "outputs": []
    },
    {
      "cell_type": "markdown",
      "metadata": {
        "id": "P5EXiOgfHNuy"
      },
      "source": [
        "#Data section\n",
        "###We will be using basically two data sources for our analysis \n",
        "1.\tFoursquare location data to determine venues, categories and menu served at those locations around neighborhood based on a radius of 500 meters in Bronx city center. \n",
        "2.\tList of Bronx borough Postal code and neighborhoods for Latitude and longitude attribute with this plot the map of Bronx and locations.\n",
        "3.\tThis two data source I will construct a data frame with neighborhood, restaurant category for exploring and clustering in Bronx city. \n"
      ]
    },
    {
      "cell_type": "code",
      "metadata": {
        "id": "MkqTBDo8Fart"
      },
      "source": [
        ""
      ],
      "execution_count": null,
      "outputs": []
    }
  ]
}