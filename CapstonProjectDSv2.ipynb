{
  "nbformat": 4,
  "nbformat_minor": 0,
  "metadata": {
    "colab": {
      "name": "CapstonProjectDS.ipynb",
      "provenance": [],
      "collapsed_sections": []
    },
    "kernelspec": {
      "name": "python3",
      "display_name": "Python 3"
    },
    "language_info": {
      "name": "python"
    }
  },
  "cells": [
    {
      "cell_type": "markdown",
      "metadata": {
        "id": "FFV0nAZ4GMPX"
      },
      "source": [
        "# Capstone Project Data Science | Site recommendation and competitor analysis for Restaurant opening\n",
        "##Introduction - Business Problem\n",
        "Restaurants and Culinary habits have always been one of the favorite ways to socialize and meet each other, have interesting conversation beside closing business contract. Knowing these habits, Restaurant income represent a good share of every country GDP (Gross domestic product). \n",
        "\n",
        "One the most complex decision for every restaurant it’s finding a perfect location for introducing a new option for neighborhood and surrounding area at a selected city.\n",
        "\n",
        "My project it’s a about determining best restaurant location and segmenting competitors in Bronx city to find opportunities in order to offer a differentiated culinary service based on neighborhood habits.\n",
        "\n",
        "Bronx city has an increasing total immigrant from Latin America one of the first things people do when immigrating to a new country or city is to establish communities and open restaurants to feed them.\n",
        "\n",
        "The Bronx is the only New York borough with a Hispanic majority. At the 2010 Census, 53.5% of Bronx's population was of Hispanic, Latino, or Spanish origin (they may be of any race). At the 2009 American Community Survey, Puerto Ricans represented 23.2% of the borough's population, Mexicans made 5.2%.In 2005, more than 200,000 Dominicans called the Bronx home.\n",
        "\n",
        "###My target Audience:\n",
        "\n",
        "Restaurant groups, retail chains, and other enterprises can use this work and use POI data to help solve problems such as site selection, competitive analysis, and much more.\n"
      ]
    },
    {
      "cell_type": "markdown",
      "metadata": {
        "id": "P5EXiOgfHNuy"
      },
      "source": [
        "#Data section\n",
        "###We will be using basically two data sources for our analysis \n",
        "\n",
        "The restaurant data used in this study was pulled from Foursquare’s Places Database - a comprehensive dataset spanning 190+ countries and 50 territories. The data set is updated continuously and published daily as our world is constantly evolving. \n",
        "The Foursquare Places Database has a rich set of attributes you could use to understand the world around you.  This analysis only needed a few of them:  the restaurant’s location, the restaurant’s categorization, and information telling us if the restaurants were part of a national chain.  \n",
        "\n",
        "Sample Data and feature: \n",
        "\n",
        "   name,categories,\tlat,\tlng\n",
        "0\tBikram Yoga\tYoga Studio\t40.876844\t-73.906204\n",
        "1\tArturo's\tPizza Place\t40.874412\t-73.910271\n",
        "2\tTibbett Diner\tDiner\t40.880404\t-73.908937\n",
        "3\tDunkin'\tDonut Shop\t40.877136\t-73.906666\n",
        "4\tAstral Fitness & Wellness Center\tGym\t40.876705\t-73.906372\n",
        "\n",
        "Besides we used to combine with New York Location data like Borough, Neighborhood, Latitude, Longitude.\n",
        "\n",
        "Sample Data and feature\n",
        "Borough,\tNeighborhood,\tLatitude,\tLongitude\n",
        "Bronx\t,   Wakefield\t40.894705\t-73.847201\n",
        "Bronx\t,   Co-op City\t40.874294\t-73.829939\n",
        "Bronx\t,   Eastchester\t40.887556\t-73.827806\n",
        "Bronx\t,   Fieldston\t40.895437\t-73.905643\n",
        "Bronx\t,   Riverdale\t40.890834\t-73.912585"
      ]
    }
  ]
}